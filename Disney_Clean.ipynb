{
 "cells": [
  {
   "cell_type": "code",
   "execution_count": 1,
   "metadata": {},
   "outputs": [],
   "source": [
    "# Importing libraries and dependencies\n",
    "import matplotlib.pyplot as plt\n",
    "import pandas as pd\n",
    "import scipy.stats as st\n",
    "import numpy as np\n",
    "from scipy.stats import linregress\n",
    "import csv\n",
    "import os"
   ]
  },
  {
   "cell_type": "code",
   "execution_count": 2,
   "metadata": {},
   "outputs": [
    {
     "data": {
      "text/html": [
       "<div>\n",
       "<style scoped>\n",
       "    .dataframe tbody tr th:only-of-type {\n",
       "        vertical-align: middle;\n",
       "    }\n",
       "\n",
       "    .dataframe tbody tr th {\n",
       "        vertical-align: top;\n",
       "    }\n",
       "\n",
       "    .dataframe thead th {\n",
       "        text-align: right;\n",
       "    }\n",
       "</style>\n",
       "<table border=\"1\" class=\"dataframe\">\n",
       "  <thead>\n",
       "    <tr style=\"text-align: right;\">\n",
       "      <th></th>\n",
       "      <th>movie_title</th>\n",
       "      <th>release_date</th>\n",
       "      <th>genre</th>\n",
       "      <th>mpaa_rating</th>\n",
       "      <th>total_gross</th>\n",
       "      <th>inflation_adjusted_gross</th>\n",
       "    </tr>\n",
       "  </thead>\n",
       "  <tbody>\n",
       "    <tr>\n",
       "      <th>0</th>\n",
       "      <td>Snow White and the Seven Dwarfs</td>\n",
       "      <td>1937-12-21</td>\n",
       "      <td>Musical</td>\n",
       "      <td>G</td>\n",
       "      <td>184925485</td>\n",
       "      <td>5228953251</td>\n",
       "    </tr>\n",
       "    <tr>\n",
       "      <th>1</th>\n",
       "      <td>Pinocchio</td>\n",
       "      <td>1940-02-09</td>\n",
       "      <td>Adventure</td>\n",
       "      <td>G</td>\n",
       "      <td>84300000</td>\n",
       "      <td>2188229052</td>\n",
       "    </tr>\n",
       "    <tr>\n",
       "      <th>2</th>\n",
       "      <td>Fantasia</td>\n",
       "      <td>1940-11-13</td>\n",
       "      <td>Musical</td>\n",
       "      <td>G</td>\n",
       "      <td>83320000</td>\n",
       "      <td>2187090808</td>\n",
       "    </tr>\n",
       "    <tr>\n",
       "      <th>3</th>\n",
       "      <td>Song of the South</td>\n",
       "      <td>1946-11-12</td>\n",
       "      <td>Adventure</td>\n",
       "      <td>G</td>\n",
       "      <td>65000000</td>\n",
       "      <td>1078510579</td>\n",
       "    </tr>\n",
       "    <tr>\n",
       "      <th>4</th>\n",
       "      <td>Cinderella</td>\n",
       "      <td>1950-02-15</td>\n",
       "      <td>Drama</td>\n",
       "      <td>G</td>\n",
       "      <td>85000000</td>\n",
       "      <td>920608730</td>\n",
       "    </tr>\n",
       "  </tbody>\n",
       "</table>\n",
       "</div>"
      ],
      "text/plain": [
       "                       movie_title release_date      genre mpaa_rating  \\\n",
       "0  Snow White and the Seven Dwarfs   1937-12-21    Musical           G   \n",
       "1                        Pinocchio   1940-02-09  Adventure           G   \n",
       "2                         Fantasia   1940-11-13    Musical           G   \n",
       "3                Song of the South   1946-11-12  Adventure           G   \n",
       "4                       Cinderella   1950-02-15      Drama           G   \n",
       "\n",
       "   total_gross  inflation_adjusted_gross  \n",
       "0    184925485                5228953251  \n",
       "1     84300000                2188229052  \n",
       "2     83320000                2187090808  \n",
       "3     65000000                1078510579  \n",
       "4     85000000                 920608730  "
      ]
     },
     "execution_count": 2,
     "metadata": {},
     "output_type": "execute_result"
    }
   ],
   "source": [
    "# Study data files\n",
    "disney_raw_data = \"disney_movies_total_gross.csv\"\n",
    "\n",
    "# Read data files\n",
    "disney_df = pd.read_csv(disney_raw_data)\n",
    "disney_df.head(5)"
   ]
  },
  {
   "cell_type": "code",
   "execution_count": 3,
   "metadata": {},
   "outputs": [
    {
     "data": {
      "text/html": [
       "<div>\n",
       "<style scoped>\n",
       "    .dataframe tbody tr th:only-of-type {\n",
       "        vertical-align: middle;\n",
       "    }\n",
       "\n",
       "    .dataframe tbody tr th {\n",
       "        vertical-align: top;\n",
       "    }\n",
       "\n",
       "    .dataframe thead th {\n",
       "        text-align: right;\n",
       "    }\n",
       "</style>\n",
       "<table border=\"1\" class=\"dataframe\">\n",
       "  <thead>\n",
       "    <tr style=\"text-align: right;\">\n",
       "      <th></th>\n",
       "      <th>Movie</th>\n",
       "      <th>Release Date</th>\n",
       "      <th>Genre</th>\n",
       "      <th>Rating</th>\n",
       "      <th>Total Gross</th>\n",
       "      <th>Inflated Gross</th>\n",
       "    </tr>\n",
       "  </thead>\n",
       "  <tbody>\n",
       "    <tr>\n",
       "      <th>0</th>\n",
       "      <td>Snow White and the Seven Dwarfs</td>\n",
       "      <td>1937-12-21</td>\n",
       "      <td>Musical</td>\n",
       "      <td>G</td>\n",
       "      <td>184925485</td>\n",
       "      <td>5228953251</td>\n",
       "    </tr>\n",
       "    <tr>\n",
       "      <th>1</th>\n",
       "      <td>Pinocchio</td>\n",
       "      <td>1940-02-09</td>\n",
       "      <td>Adventure</td>\n",
       "      <td>G</td>\n",
       "      <td>84300000</td>\n",
       "      <td>2188229052</td>\n",
       "    </tr>\n",
       "    <tr>\n",
       "      <th>2</th>\n",
       "      <td>Fantasia</td>\n",
       "      <td>1940-11-13</td>\n",
       "      <td>Musical</td>\n",
       "      <td>G</td>\n",
       "      <td>83320000</td>\n",
       "      <td>2187090808</td>\n",
       "    </tr>\n",
       "    <tr>\n",
       "      <th>3</th>\n",
       "      <td>Song of the South</td>\n",
       "      <td>1946-11-12</td>\n",
       "      <td>Adventure</td>\n",
       "      <td>G</td>\n",
       "      <td>65000000</td>\n",
       "      <td>1078510579</td>\n",
       "    </tr>\n",
       "    <tr>\n",
       "      <th>4</th>\n",
       "      <td>Cinderella</td>\n",
       "      <td>1950-02-15</td>\n",
       "      <td>Drama</td>\n",
       "      <td>G</td>\n",
       "      <td>85000000</td>\n",
       "      <td>920608730</td>\n",
       "    </tr>\n",
       "  </tbody>\n",
       "</table>\n",
       "</div>"
      ],
      "text/plain": [
       "                             Movie Release Date      Genre Rating  \\\n",
       "0  Snow White and the Seven Dwarfs   1937-12-21    Musical      G   \n",
       "1                        Pinocchio   1940-02-09  Adventure      G   \n",
       "2                         Fantasia   1940-11-13    Musical      G   \n",
       "3                Song of the South   1946-11-12  Adventure      G   \n",
       "4                       Cinderella   1950-02-15      Drama      G   \n",
       "\n",
       "   Total Gross  Inflated Gross  \n",
       "0    184925485      5228953251  \n",
       "1     84300000      2188229052  \n",
       "2     83320000      2187090808  \n",
       "3     65000000      1078510579  \n",
       "4     85000000       920608730  "
      ]
     },
     "execution_count": 3,
     "metadata": {},
     "output_type": "execute_result"
    }
   ],
   "source": [
    "#Rename column headers\n",
    "disney_df.columns = [\"Movie\", \"Release Date\", \"Genre\", \"Rating\", \"Total Gross\", \"Inflated Gross\"]\n",
    "disney_df.head(5)"
   ]
  },
  {
   "cell_type": "code",
   "execution_count": 4,
   "metadata": {},
   "outputs": [
    {
     "data": {
      "text/plain": [
       "array(['Musical', 'Adventure', 'Drama', 'Comedy', nan, 'Action', 'Horror',\n",
       "       'Romantic Comedy', 'Thriller/Suspense', 'Western', 'Black Comedy',\n",
       "       'Documentary', 'Concert/Performance'], dtype=object)"
      ]
     },
     "execution_count": 4,
     "metadata": {},
     "output_type": "execute_result"
    }
   ],
   "source": [
    "# Making a array of genres to see how many\n",
    "#13 different types\n",
    "genres = disney_df['Genre'].unique()\n",
    "genres"
   ]
  },
  {
   "cell_type": "code",
   "execution_count": 5,
   "metadata": {},
   "outputs": [
    {
     "data": {
      "text/html": [
       "<div>\n",
       "<style scoped>\n",
       "    .dataframe tbody tr th:only-of-type {\n",
       "        vertical-align: middle;\n",
       "    }\n",
       "\n",
       "    .dataframe tbody tr th {\n",
       "        vertical-align: top;\n",
       "    }\n",
       "\n",
       "    .dataframe thead th {\n",
       "        text-align: right;\n",
       "    }\n",
       "</style>\n",
       "<table border=\"1\" class=\"dataframe\">\n",
       "  <thead>\n",
       "    <tr style=\"text-align: right;\">\n",
       "      <th></th>\n",
       "      <th>Movie</th>\n",
       "      <th>Release Date</th>\n",
       "      <th>Genre</th>\n",
       "      <th>Rating</th>\n",
       "      <th>Total Gross</th>\n",
       "      <th>Inflated Gross</th>\n",
       "      <th>Year</th>\n",
       "      <th>Month</th>\n",
       "      <th>Million Gross</th>\n",
       "    </tr>\n",
       "  </thead>\n",
       "  <tbody>\n",
       "    <tr>\n",
       "      <th>0</th>\n",
       "      <td>Snow White and the Seven Dwarfs</td>\n",
       "      <td>1937-12-21</td>\n",
       "      <td>Musical</td>\n",
       "      <td>G</td>\n",
       "      <td>184925485</td>\n",
       "      <td>5228953251</td>\n",
       "      <td>1937</td>\n",
       "      <td>12</td>\n",
       "      <td>5228.95</td>\n",
       "    </tr>\n",
       "    <tr>\n",
       "      <th>1</th>\n",
       "      <td>Pinocchio</td>\n",
       "      <td>1940-02-09</td>\n",
       "      <td>Adventure</td>\n",
       "      <td>G</td>\n",
       "      <td>84300000</td>\n",
       "      <td>2188229052</td>\n",
       "      <td>1940</td>\n",
       "      <td>02</td>\n",
       "      <td>2188.23</td>\n",
       "    </tr>\n",
       "    <tr>\n",
       "      <th>2</th>\n",
       "      <td>Fantasia</td>\n",
       "      <td>1940-11-13</td>\n",
       "      <td>Musical</td>\n",
       "      <td>G</td>\n",
       "      <td>83320000</td>\n",
       "      <td>2187090808</td>\n",
       "      <td>1940</td>\n",
       "      <td>11</td>\n",
       "      <td>2187.09</td>\n",
       "    </tr>\n",
       "    <tr>\n",
       "      <th>3</th>\n",
       "      <td>Song of the South</td>\n",
       "      <td>1946-11-12</td>\n",
       "      <td>Adventure</td>\n",
       "      <td>G</td>\n",
       "      <td>65000000</td>\n",
       "      <td>1078510579</td>\n",
       "      <td>1946</td>\n",
       "      <td>11</td>\n",
       "      <td>1078.51</td>\n",
       "    </tr>\n",
       "    <tr>\n",
       "      <th>4</th>\n",
       "      <td>Cinderella</td>\n",
       "      <td>1950-02-15</td>\n",
       "      <td>Drama</td>\n",
       "      <td>G</td>\n",
       "      <td>85000000</td>\n",
       "      <td>920608730</td>\n",
       "      <td>1950</td>\n",
       "      <td>02</td>\n",
       "      <td>920.61</td>\n",
       "    </tr>\n",
       "  </tbody>\n",
       "</table>\n",
       "</div>"
      ],
      "text/plain": [
       "                             Movie Release Date      Genre Rating  \\\n",
       "0  Snow White and the Seven Dwarfs   1937-12-21    Musical      G   \n",
       "1                        Pinocchio   1940-02-09  Adventure      G   \n",
       "2                         Fantasia   1940-11-13    Musical      G   \n",
       "3                Song of the South   1946-11-12  Adventure      G   \n",
       "4                       Cinderella   1950-02-15      Drama      G   \n",
       "\n",
       "   Total Gross  Inflated Gross  Year Month  Million Gross  \n",
       "0    184925485      5228953251  1937    12        5228.95  \n",
       "1     84300000      2188229052  1940    02        2188.23  \n",
       "2     83320000      2187090808  1940    11        2187.09  \n",
       "3     65000000      1078510579  1946    11        1078.51  \n",
       "4     85000000       920608730  1950    02         920.61  "
      ]
     },
     "execution_count": 5,
     "metadata": {},
     "output_type": "execute_result"
    }
   ],
   "source": [
    "#Adding a year,month, and millions column(updating type to string so can be used in calcuations)- will be used for analysis\n",
    "disney_df['Year']= \"\"\n",
    "disney_df['Year'] = disney_df['Release Date'].astype(str).str[0:4]\n",
    "disney_df['Month'] = disney_df['Release Date'].astype(str).str[5:7]\n",
    "disney_df['Inflated Gross'] = disney_df['Inflated Gross'].astype('int64')\n",
    "disney_df['Million Gross'] = round(disney_df['Inflated Gross']/1000000,2)\n",
    "disney_df.head(5)"
   ]
  },
  {
   "cell_type": "code",
   "execution_count": 6,
   "metadata": {},
   "outputs": [
    {
     "data": {
      "text/plain": [
       "Movie             579\n",
       "Release Date      579\n",
       "Genre             562\n",
       "Rating            523\n",
       "Total Gross       579\n",
       "Inflated Gross    579\n",
       "Year              579\n",
       "Month             579\n",
       "Million Gross     579\n",
       "dtype: int64"
      ]
     },
     "execution_count": 6,
     "metadata": {},
     "output_type": "execute_result"
    }
   ],
   "source": [
    "#Looking for missing data\n",
    "disney_df.count()"
   ]
  },
  {
   "cell_type": "code",
   "execution_count": 7,
   "metadata": {
    "scrolled": true
   },
   "outputs": [
    {
     "data": {
      "text/html": [
       "<div>\n",
       "<style scoped>\n",
       "    .dataframe tbody tr th:only-of-type {\n",
       "        vertical-align: middle;\n",
       "    }\n",
       "\n",
       "    .dataframe tbody tr th {\n",
       "        vertical-align: top;\n",
       "    }\n",
       "\n",
       "    .dataframe thead th {\n",
       "        text-align: right;\n",
       "    }\n",
       "</style>\n",
       "<table border=\"1\" class=\"dataframe\">\n",
       "  <thead>\n",
       "    <tr style=\"text-align: right;\">\n",
       "      <th></th>\n",
       "      <th>Movie</th>\n",
       "      <th>Release Date</th>\n",
       "      <th>Genre</th>\n",
       "      <th>Rating</th>\n",
       "      <th>Total Gross</th>\n",
       "      <th>Inflated Gross</th>\n",
       "      <th>Year</th>\n",
       "      <th>Month</th>\n",
       "      <th>Million Gross</th>\n",
       "    </tr>\n",
       "  </thead>\n",
       "  <tbody>\n",
       "    <tr>\n",
       "      <th>0</th>\n",
       "      <td>Snow White and the Seven Dwarfs</td>\n",
       "      <td>1937-12-21</td>\n",
       "      <td>Musical</td>\n",
       "      <td>G</td>\n",
       "      <td>184925485</td>\n",
       "      <td>5228953251</td>\n",
       "      <td>1937</td>\n",
       "      <td>12</td>\n",
       "      <td>5228.95</td>\n",
       "    </tr>\n",
       "    <tr>\n",
       "      <th>1</th>\n",
       "      <td>Pinocchio</td>\n",
       "      <td>1940-02-09</td>\n",
       "      <td>Adventure</td>\n",
       "      <td>G</td>\n",
       "      <td>84300000</td>\n",
       "      <td>2188229052</td>\n",
       "      <td>1940</td>\n",
       "      <td>02</td>\n",
       "      <td>2188.23</td>\n",
       "    </tr>\n",
       "    <tr>\n",
       "      <th>2</th>\n",
       "      <td>Fantasia</td>\n",
       "      <td>1940-11-13</td>\n",
       "      <td>Musical</td>\n",
       "      <td>G</td>\n",
       "      <td>83320000</td>\n",
       "      <td>2187090808</td>\n",
       "      <td>1940</td>\n",
       "      <td>11</td>\n",
       "      <td>2187.09</td>\n",
       "    </tr>\n",
       "    <tr>\n",
       "      <th>3</th>\n",
       "      <td>Song of the South</td>\n",
       "      <td>1946-11-12</td>\n",
       "      <td>Adventure</td>\n",
       "      <td>G</td>\n",
       "      <td>65000000</td>\n",
       "      <td>1078510579</td>\n",
       "      <td>1946</td>\n",
       "      <td>11</td>\n",
       "      <td>1078.51</td>\n",
       "    </tr>\n",
       "    <tr>\n",
       "      <th>4</th>\n",
       "      <td>Cinderella</td>\n",
       "      <td>1950-02-15</td>\n",
       "      <td>Drama</td>\n",
       "      <td>G</td>\n",
       "      <td>85000000</td>\n",
       "      <td>920608730</td>\n",
       "      <td>1950</td>\n",
       "      <td>02</td>\n",
       "      <td>920.61</td>\n",
       "    </tr>\n",
       "  </tbody>\n",
       "</table>\n",
       "</div>"
      ],
      "text/plain": [
       "                             Movie Release Date      Genre Rating  \\\n",
       "0  Snow White and the Seven Dwarfs   1937-12-21    Musical      G   \n",
       "1                        Pinocchio   1940-02-09  Adventure      G   \n",
       "2                         Fantasia   1940-11-13    Musical      G   \n",
       "3                Song of the South   1946-11-12  Adventure      G   \n",
       "4                       Cinderella   1950-02-15      Drama      G   \n",
       "\n",
       "   Total Gross  Inflated Gross  Year Month  Million Gross  \n",
       "0    184925485      5228953251  1937    12        5228.95  \n",
       "1     84300000      2188229052  1940    02        2188.23  \n",
       "2     83320000      2187090808  1940    11        2187.09  \n",
       "3     65000000      1078510579  1946    11        1078.51  \n",
       "4     85000000       920608730  1950    02         920.61  "
      ]
     },
     "execution_count": 7,
     "metadata": {},
     "output_type": "execute_result"
    }
   ],
   "source": [
    "#filling in missing data with '#Missing Data'  Easier to track\n",
    "disney_df['Rating'] = disney_df['Rating'].fillna('#Missing Data')\n",
    "disney_df['Genre'] = disney_df['Genre'].fillna('#Missing Data')\n",
    "disney_df['Rating'] = disney_df['Rating'].replace('Not Rated', '#Missing Data')\n",
    "disney_df.head(5)"
   ]
  },
  {
   "cell_type": "code",
   "execution_count": 8,
   "metadata": {},
   "outputs": [
    {
     "data": {
      "text/html": [
       "<div>\n",
       "<style scoped>\n",
       "    .dataframe tbody tr th:only-of-type {\n",
       "        vertical-align: middle;\n",
       "    }\n",
       "\n",
       "    .dataframe tbody tr th {\n",
       "        vertical-align: top;\n",
       "    }\n",
       "\n",
       "    .dataframe thead th {\n",
       "        text-align: right;\n",
       "    }\n",
       "</style>\n",
       "<table border=\"1\" class=\"dataframe\">\n",
       "  <thead>\n",
       "    <tr style=\"text-align: right;\">\n",
       "      <th></th>\n",
       "      <th>Movie</th>\n",
       "      <th>Release Date</th>\n",
       "      <th>Genre</th>\n",
       "      <th>Rating</th>\n",
       "      <th>Total Gross</th>\n",
       "      <th>Inflated Gross</th>\n",
       "      <th>Year</th>\n",
       "      <th>Month</th>\n",
       "      <th>Million Gross</th>\n",
       "    </tr>\n",
       "  </thead>\n",
       "  <tbody>\n",
       "    <tr>\n",
       "      <th>15</th>\n",
       "      <td>The Aristocats</td>\n",
       "      <td>1970-04-24</td>\n",
       "      <td>Musical</td>\n",
       "      <td>G</td>\n",
       "      <td>55675257</td>\n",
       "      <td>255161499</td>\n",
       "      <td>1970</td>\n",
       "      <td>04</td>\n",
       "      <td>255.16</td>\n",
       "    </tr>\n",
       "    <tr>\n",
       "      <th>16</th>\n",
       "      <td>The Boatniks</td>\n",
       "      <td>1970-07-01</td>\n",
       "      <td>Comedy</td>\n",
       "      <td>#Missing Data</td>\n",
       "      <td>18607492</td>\n",
       "      <td>101200742</td>\n",
       "      <td>1970</td>\n",
       "      <td>07</td>\n",
       "      <td>101.20</td>\n",
       "    </tr>\n",
       "    <tr>\n",
       "      <th>17</th>\n",
       "      <td>Bedknobs and Broomsticks</td>\n",
       "      <td>1971-10-07</td>\n",
       "      <td>Musical</td>\n",
       "      <td>#Missing Data</td>\n",
       "      <td>17871174</td>\n",
       "      <td>91305448</td>\n",
       "      <td>1971</td>\n",
       "      <td>10</td>\n",
       "      <td>91.31</td>\n",
       "    </tr>\n",
       "    <tr>\n",
       "      <th>18</th>\n",
       "      <td>The Apple Dumpling Gang</td>\n",
       "      <td>1975-07-01</td>\n",
       "      <td>Comedy</td>\n",
       "      <td>#Missing Data</td>\n",
       "      <td>31916500</td>\n",
       "      <td>131246872</td>\n",
       "      <td>1975</td>\n",
       "      <td>07</td>\n",
       "      <td>131.25</td>\n",
       "    </tr>\n",
       "    <tr>\n",
       "      <th>19</th>\n",
       "      <td>Freaky Friday</td>\n",
       "      <td>1977-01-21</td>\n",
       "      <td>Comedy</td>\n",
       "      <td>#Missing Data</td>\n",
       "      <td>25942000</td>\n",
       "      <td>98067733</td>\n",
       "      <td>1977</td>\n",
       "      <td>01</td>\n",
       "      <td>98.07</td>\n",
       "    </tr>\n",
       "  </tbody>\n",
       "</table>\n",
       "</div>"
      ],
      "text/plain": [
       "                       Movie Release Date    Genre         Rating  \\\n",
       "15            The Aristocats   1970-04-24  Musical              G   \n",
       "16              The Boatniks   1970-07-01   Comedy  #Missing Data   \n",
       "17  Bedknobs and Broomsticks   1971-10-07  Musical  #Missing Data   \n",
       "18   The Apple Dumpling Gang   1975-07-01   Comedy  #Missing Data   \n",
       "19             Freaky Friday   1977-01-21   Comedy  #Missing Data   \n",
       "\n",
       "    Total Gross  Inflated Gross  Year Month  Million Gross  \n",
       "15     55675257       255161499  1970    04         255.16  \n",
       "16     18607492       101200742  1970    07         101.20  \n",
       "17     17871174        91305448  1971    10          91.31  \n",
       "18     31916500       131246872  1975    07         131.25  \n",
       "19     25942000        98067733  1977    01          98.07  "
      ]
     },
     "execution_count": 8,
     "metadata": {},
     "output_type": "execute_result"
    }
   ],
   "source": [
    "#Dataframe with only Year>1970- removing some of the highest gross movies as other factors probably related to the high gross\n",
    "disney_df['Year'] = disney_df['Year'].astype('int64')\n",
    "disney_1970_df = pd.DataFrame(disney_df[disney_df['Year'] >= 1970])\n",
    "disney_1970_df.head(5)"
   ]
  },
  {
   "cell_type": "code",
   "execution_count": 9,
   "metadata": {},
   "outputs": [
    {
     "name": "stderr",
     "output_type": "stream",
     "text": [
      "<ipython-input-9-6afa60746977>:2: UserWarning: Boolean Series key will be reindexed to match DataFrame index.\n",
      "  disney_clean_1970_df = pd.DataFrame(disney_1970_df[disney_df['Million Gross'] > 0])\n"
     ]
    },
    {
     "data": {
      "text/html": [
       "<div>\n",
       "<style scoped>\n",
       "    .dataframe tbody tr th:only-of-type {\n",
       "        vertical-align: middle;\n",
       "    }\n",
       "\n",
       "    .dataframe tbody tr th {\n",
       "        vertical-align: top;\n",
       "    }\n",
       "\n",
       "    .dataframe thead th {\n",
       "        text-align: right;\n",
       "    }\n",
       "</style>\n",
       "<table border=\"1\" class=\"dataframe\">\n",
       "  <thead>\n",
       "    <tr style=\"text-align: right;\">\n",
       "      <th></th>\n",
       "      <th>Movie</th>\n",
       "      <th>Release Date</th>\n",
       "      <th>Genre</th>\n",
       "      <th>Rating</th>\n",
       "      <th>Total Gross</th>\n",
       "      <th>Inflated Gross</th>\n",
       "      <th>Year</th>\n",
       "      <th>Month</th>\n",
       "      <th>Million Gross</th>\n",
       "    </tr>\n",
       "  </thead>\n",
       "  <tbody>\n",
       "    <tr>\n",
       "      <th>15</th>\n",
       "      <td>The Aristocats</td>\n",
       "      <td>1970-04-24</td>\n",
       "      <td>Musical</td>\n",
       "      <td>G</td>\n",
       "      <td>55675257</td>\n",
       "      <td>255161499</td>\n",
       "      <td>1970</td>\n",
       "      <td>04</td>\n",
       "      <td>255.16</td>\n",
       "    </tr>\n",
       "    <tr>\n",
       "      <th>16</th>\n",
       "      <td>The Boatniks</td>\n",
       "      <td>1970-07-01</td>\n",
       "      <td>Comedy</td>\n",
       "      <td>#Missing Data</td>\n",
       "      <td>18607492</td>\n",
       "      <td>101200742</td>\n",
       "      <td>1970</td>\n",
       "      <td>07</td>\n",
       "      <td>101.20</td>\n",
       "    </tr>\n",
       "    <tr>\n",
       "      <th>17</th>\n",
       "      <td>Bedknobs and Broomsticks</td>\n",
       "      <td>1971-10-07</td>\n",
       "      <td>Musical</td>\n",
       "      <td>#Missing Data</td>\n",
       "      <td>17871174</td>\n",
       "      <td>91305448</td>\n",
       "      <td>1971</td>\n",
       "      <td>10</td>\n",
       "      <td>91.31</td>\n",
       "    </tr>\n",
       "    <tr>\n",
       "      <th>18</th>\n",
       "      <td>The Apple Dumpling Gang</td>\n",
       "      <td>1975-07-01</td>\n",
       "      <td>Comedy</td>\n",
       "      <td>#Missing Data</td>\n",
       "      <td>31916500</td>\n",
       "      <td>131246872</td>\n",
       "      <td>1975</td>\n",
       "      <td>07</td>\n",
       "      <td>131.25</td>\n",
       "    </tr>\n",
       "    <tr>\n",
       "      <th>19</th>\n",
       "      <td>Freaky Friday</td>\n",
       "      <td>1977-01-21</td>\n",
       "      <td>Comedy</td>\n",
       "      <td>#Missing Data</td>\n",
       "      <td>25942000</td>\n",
       "      <td>98067733</td>\n",
       "      <td>1977</td>\n",
       "      <td>01</td>\n",
       "      <td>98.07</td>\n",
       "    </tr>\n",
       "  </tbody>\n",
       "</table>\n",
       "</div>"
      ],
      "text/plain": [
       "                       Movie Release Date    Genre         Rating  \\\n",
       "15            The Aristocats   1970-04-24  Musical              G   \n",
       "16              The Boatniks   1970-07-01   Comedy  #Missing Data   \n",
       "17  Bedknobs and Broomsticks   1971-10-07  Musical  #Missing Data   \n",
       "18   The Apple Dumpling Gang   1975-07-01   Comedy  #Missing Data   \n",
       "19             Freaky Friday   1977-01-21   Comedy  #Missing Data   \n",
       "\n",
       "    Total Gross  Inflated Gross  Year Month  Million Gross  \n",
       "15     55675257       255161499  1970    04         255.16  \n",
       "16     18607492       101200742  1970    07         101.20  \n",
       "17     17871174        91305448  1971    10          91.31  \n",
       "18     31916500       131246872  1975    07         131.25  \n",
       "19     25942000        98067733  1977    01          98.07  "
      ]
     },
     "execution_count": 9,
     "metadata": {},
     "output_type": "execute_result"
    }
   ],
   "source": [
    "#Data >1970  Cleaned out the movies that grossed $0 total \n",
    "disney_clean_1970_df = pd.DataFrame(disney_1970_df[disney_df['Million Gross'] > 0])\n",
    "disney_clean_1970_df.head(5)"
   ]
  },
  {
   "cell_type": "code",
   "execution_count": 10,
   "metadata": {},
   "outputs": [],
   "source": [
    "# disney_genre_df is used 5 times in the file\n",
    "#used for boxplot"
   ]
  },
  {
   "cell_type": "code",
   "execution_count": 11,
   "metadata": {},
   "outputs": [
    {
     "data": {
      "text/html": [
       "<div>\n",
       "<style scoped>\n",
       "    .dataframe tbody tr th:only-of-type {\n",
       "        vertical-align: middle;\n",
       "    }\n",
       "\n",
       "    .dataframe tbody tr th {\n",
       "        vertical-align: top;\n",
       "    }\n",
       "\n",
       "    .dataframe thead th {\n",
       "        text-align: right;\n",
       "    }\n",
       "</style>\n",
       "<table border=\"1\" class=\"dataframe\">\n",
       "  <thead>\n",
       "    <tr style=\"text-align: right;\">\n",
       "      <th></th>\n",
       "      <th>Genre</th>\n",
       "      <th>Million Gross</th>\n",
       "    </tr>\n",
       "  </thead>\n",
       "  <tbody>\n",
       "    <tr>\n",
       "      <th>0</th>\n",
       "      <td>Musical</td>\n",
       "      <td>5228.95</td>\n",
       "    </tr>\n",
       "    <tr>\n",
       "      <th>1</th>\n",
       "      <td>Adventure</td>\n",
       "      <td>2188.23</td>\n",
       "    </tr>\n",
       "    <tr>\n",
       "      <th>2</th>\n",
       "      <td>Musical</td>\n",
       "      <td>2187.09</td>\n",
       "    </tr>\n",
       "    <tr>\n",
       "      <th>3</th>\n",
       "      <td>Adventure</td>\n",
       "      <td>1078.51</td>\n",
       "    </tr>\n",
       "    <tr>\n",
       "      <th>4</th>\n",
       "      <td>Drama</td>\n",
       "      <td>920.61</td>\n",
       "    </tr>\n",
       "  </tbody>\n",
       "</table>\n",
       "</div>"
      ],
      "text/plain": [
       "       Genre  Million Gross\n",
       "0    Musical        5228.95\n",
       "1  Adventure        2188.23\n",
       "2    Musical        2187.09\n",
       "3  Adventure        1078.51\n",
       "4      Drama         920.61"
      ]
     },
     "execution_count": 11,
     "metadata": {},
     "output_type": "execute_result"
    }
   ],
   "source": [
    "#All disney_df\n",
    "disney_genre_df=  disney_df[['Genre','Million Gross']].copy() \n",
    "disney_genre_df.head(5)"
   ]
  },
  {
   "cell_type": "code",
   "execution_count": 12,
   "metadata": {},
   "outputs": [
    {
     "data": {
      "text/html": [
       "<div>\n",
       "<style scoped>\n",
       "    .dataframe tbody tr th:only-of-type {\n",
       "        vertical-align: middle;\n",
       "    }\n",
       "\n",
       "    .dataframe tbody tr th {\n",
       "        vertical-align: top;\n",
       "    }\n",
       "\n",
       "    .dataframe thead th {\n",
       "        text-align: right;\n",
       "    }\n",
       "</style>\n",
       "<table border=\"1\" class=\"dataframe\">\n",
       "  <thead>\n",
       "    <tr style=\"text-align: right;\">\n",
       "      <th></th>\n",
       "      <th>Million Gross</th>\n",
       "    </tr>\n",
       "    <tr>\n",
       "      <th>Genre</th>\n",
       "      <th></th>\n",
       "    </tr>\n",
       "  </thead>\n",
       "  <tbody>\n",
       "    <tr>\n",
       "      <th>#Missing Data</th>\n",
       "      <td>21.624706</td>\n",
       "    </tr>\n",
       "    <tr>\n",
       "      <th>Action</th>\n",
       "      <td>137.473500</td>\n",
       "    </tr>\n",
       "    <tr>\n",
       "      <th>Adventure</th>\n",
       "      <td>190.397132</td>\n",
       "    </tr>\n",
       "    <tr>\n",
       "      <th>Black Comedy</th>\n",
       "      <td>52.243333</td>\n",
       "    </tr>\n",
       "    <tr>\n",
       "      <th>Comedy</th>\n",
       "      <td>84.667692</td>\n",
       "    </tr>\n",
       "    <tr>\n",
       "      <th>Concert/Performance</th>\n",
       "      <td>57.410000</td>\n",
       "    </tr>\n",
       "    <tr>\n",
       "      <th>Documentary</th>\n",
       "      <td>12.718125</td>\n",
       "    </tr>\n",
       "    <tr>\n",
       "      <th>Drama</th>\n",
       "      <td>71.892807</td>\n",
       "    </tr>\n",
       "    <tr>\n",
       "      <th>Horror</th>\n",
       "      <td>23.415000</td>\n",
       "    </tr>\n",
       "    <tr>\n",
       "      <th>Musical</th>\n",
       "      <td>603.598125</td>\n",
       "    </tr>\n",
       "    <tr>\n",
       "      <th>Romantic Comedy</th>\n",
       "      <td>77.777391</td>\n",
       "    </tr>\n",
       "    <tr>\n",
       "      <th>Thriller/Suspense</th>\n",
       "      <td>89.652500</td>\n",
       "    </tr>\n",
       "    <tr>\n",
       "      <th>Western</th>\n",
       "      <td>73.815714</td>\n",
       "    </tr>\n",
       "  </tbody>\n",
       "</table>\n",
       "</div>"
      ],
      "text/plain": [
       "                     Million Gross\n",
       "Genre                             \n",
       "#Missing Data            21.624706\n",
       "Action                  137.473500\n",
       "Adventure               190.397132\n",
       "Black Comedy             52.243333\n",
       "Comedy                   84.667692\n",
       "Concert/Performance      57.410000\n",
       "Documentary              12.718125\n",
       "Drama                    71.892807\n",
       "Horror                   23.415000\n",
       "Musical                 603.598125\n",
       "Romantic Comedy          77.777391\n",
       "Thriller/Suspense        89.652500\n",
       "Western                  73.815714"
      ]
     },
     "execution_count": 12,
     "metadata": {},
     "output_type": "execute_result"
    }
   ],
   "source": [
    "#Data ALL YEARS disney_df\n",
    "# Group genre with average inflated gross\n",
    "avg_gross_per_genre = pd.DataFrame(disney_df.groupby('Genre').mean()['Million Gross'])\n",
    "avg_gross_per_genre"
   ]
  },
  {
   "cell_type": "code",
   "execution_count": 13,
   "metadata": {},
   "outputs": [
    {
     "data": {
      "image/png": "[encoded data removed]",
      "text/plain": [
       "<Figure size 432x288 with 1 Axes>"
      ]
     },
     "metadata": {
      "needs_background": "light"
     },
     "output_type": "display_data"
    }
   ],
   "source": [
    "#Data ALL YEARS disney_df\n",
    "plt.bar(avg_gross_per_genre.index,avg_gross_per_genre['Million Gross'])\n",
    "plt.xticks(rotation=70)\n",
    "plt.title(\"Average Inflated Gross by Genre\")\n",
    "plt.xlabel(\"Genre\")\n",
    "plt.ylabel(\"Average Inflated Gross (Millions)\")\n",
    "plt.show()"
   ]
  },
  {
   "cell_type": "code",
   "execution_count": 14,
   "metadata": {},
   "outputs": [
    {
     "data": {
      "text/html": [
       "<div>\n",
       "<style scoped>\n",
       "    .dataframe tbody tr th:only-of-type {\n",
       "        vertical-align: middle;\n",
       "    }\n",
       "\n",
       "    .dataframe tbody tr th {\n",
       "        vertical-align: top;\n",
       "    }\n",
       "\n",
       "    .dataframe thead th {\n",
       "        text-align: right;\n",
       "    }\n",
       "</style>\n",
       "<table border=\"1\" class=\"dataframe\">\n",
       "  <thead>\n",
       "    <tr style=\"text-align: right;\">\n",
       "      <th></th>\n",
       "      <th>Avg Inflated Gross (USD)</th>\n",
       "    </tr>\n",
       "    <tr>\n",
       "      <th>Rating</th>\n",
       "      <th></th>\n",
       "    </tr>\n",
       "  </thead>\n",
       "  <tbody>\n",
       "    <tr>\n",
       "      <th>#Missing Data</th>\n",
       "      <td>70</td>\n",
       "    </tr>\n",
       "    <tr>\n",
       "      <th>G</th>\n",
       "      <td>291</td>\n",
       "    </tr>\n",
       "    <tr>\n",
       "      <th>PG</th>\n",
       "      <td>101</td>\n",
       "    </tr>\n",
       "    <tr>\n",
       "      <th>PG-13</th>\n",
       "      <td>102</td>\n",
       "    </tr>\n",
       "    <tr>\n",
       "      <th>R</th>\n",
       "      <td>55</td>\n",
       "    </tr>\n",
       "  </tbody>\n",
       "</table>\n",
       "</div>"
      ],
      "text/plain": [
       "               Avg Inflated Gross (USD)\n",
       "Rating                                 \n",
       "#Missing Data                        70\n",
       "G                                   291\n",
       "PG                                  101\n",
       "PG-13                               102\n",
       "R                                    55"
      ]
     },
     "execution_count": 14,
     "metadata": {},
     "output_type": "execute_result"
    }
   ],
   "source": [
    "#Data ALL YEARS disney_df\n",
    "# Group rating with average inflated gross\n",
    "avg_rating_clean = pd.DataFrame(disney_df.groupby('Rating').mean()['Million Gross'])\n",
    "avg_rating_clean['Million Gross'] = avg_rating_clean['Million Gross'].astype('int64')\n",
    "avg_rating_clean = avg_rating_clean.rename(columns={'Million Gross': 'Avg Inflated Gross (USD)'})\n",
    "avg_rating_clean"
   ]
  },
  {
   "cell_type": "code",
   "execution_count": 15,
   "metadata": {},
   "outputs": [
    {
     "data": {
      "text/plain": [
       "<matplotlib.legend.Legend at 0x7fd612219b20>"
      ]
     },
     "execution_count": 15,
     "metadata": {},
     "output_type": "execute_result"
    },
    {
     "data": {
      "image/png": "[encoded data removed]",
      "text/plain": [
       "<Figure size 432x288 with 1 Axes>"
      ]
     },
     "metadata": {
      "needs_background": "light"
     },
     "output_type": "display_data"
    }
   ],
   "source": [
    "#Data ALL YEARS disney_df\n",
    "#Bar Graph   Rating vs Inflated Gross\n",
    "avg_rating_clean.plot.bar()\n",
    "plt.title('Average Inflated Gross by Rating')\n",
    "plt.xlabel('Rating')\n",
    "plt.ylabel('Average Inflated Gross (Millions)')\n",
    "plt.legend([])"
   ]
  },
  {
   "cell_type": "code",
   "execution_count": 16,
   "metadata": {},
   "outputs": [
    {
     "data": {
      "text/html": [
       "<div>\n",
       "<style scoped>\n",
       "    .dataframe tbody tr th:only-of-type {\n",
       "        vertical-align: middle;\n",
       "    }\n",
       "\n",
       "    .dataframe tbody tr th {\n",
       "        vertical-align: top;\n",
       "    }\n",
       "\n",
       "    .dataframe thead th {\n",
       "        text-align: right;\n",
       "    }\n",
       "</style>\n",
       "<table border=\"1\" class=\"dataframe\">\n",
       "  <thead>\n",
       "    <tr style=\"text-align: right;\">\n",
       "      <th></th>\n",
       "      <th>Avg Million (USD) Gross</th>\n",
       "    </tr>\n",
       "    <tr>\n",
       "      <th>Year</th>\n",
       "      <th></th>\n",
       "    </tr>\n",
       "  </thead>\n",
       "  <tbody>\n",
       "    <tr>\n",
       "      <th>1970</th>\n",
       "      <td>178.18</td>\n",
       "    </tr>\n",
       "    <tr>\n",
       "      <th>1971</th>\n",
       "      <td>91.31</td>\n",
       "    </tr>\n",
       "    <tr>\n",
       "      <th>1975</th>\n",
       "      <td>131.25</td>\n",
       "    </tr>\n",
       "    <tr>\n",
       "      <th>1977</th>\n",
       "      <td>121.22</td>\n",
       "    </tr>\n",
       "    <tr>\n",
       "      <th>1979</th>\n",
       "      <td>120.38</td>\n",
       "    </tr>\n",
       "  </tbody>\n",
       "</table>\n",
       "</div>"
      ],
      "text/plain": [
       "      Avg Million (USD) Gross\n",
       "Year                         \n",
       "1970                   178.18\n",
       "1971                    91.31\n",
       "1975                   131.25\n",
       "1977                   121.22\n",
       "1979                   120.38"
      ]
     },
     "execution_count": 16,
     "metadata": {},
     "output_type": "execute_result"
    }
   ],
   "source": [
    "#1970 List \n",
    "year_clean_1970_df = pd.DataFrame(disney_clean_1970_df.groupby('Year').mean()['Million Gross'])\n",
    "year_clean_1970_df.rename(columns = {'Million Gross' : 'Avg Million (USD) Gross'}, inplace = True)\n",
    "year_clean_1970_df.head(5)"
   ]
  },
  {
   "cell_type": "code",
   "execution_count": 17,
   "metadata": {},
   "outputs": [
    {
     "data": {
      "text/html": [
       "<div>\n",
       "<style scoped>\n",
       "    .dataframe tbody tr th:only-of-type {\n",
       "        vertical-align: middle;\n",
       "    }\n",
       "\n",
       "    .dataframe tbody tr th {\n",
       "        vertical-align: top;\n",
       "    }\n",
       "\n",
       "    .dataframe thead th {\n",
       "        text-align: right;\n",
       "    }\n",
       "</style>\n",
       "<table border=\"1\" class=\"dataframe\">\n",
       "  <thead>\n",
       "    <tr style=\"text-align: right;\">\n",
       "      <th></th>\n",
       "      <th>Million Gross</th>\n",
       "    </tr>\n",
       "    <tr>\n",
       "      <th>Year</th>\n",
       "      <th></th>\n",
       "    </tr>\n",
       "  </thead>\n",
       "  <tbody>\n",
       "    <tr>\n",
       "      <th>1937</th>\n",
       "      <td>5228.95</td>\n",
       "    </tr>\n",
       "    <tr>\n",
       "      <th>1940</th>\n",
       "      <td>2187.66</td>\n",
       "    </tr>\n",
       "    <tr>\n",
       "      <th>1946</th>\n",
       "      <td>1078.51</td>\n",
       "    </tr>\n",
       "    <tr>\n",
       "      <th>1950</th>\n",
       "      <td>920.61</td>\n",
       "    </tr>\n",
       "    <tr>\n",
       "      <th>1954</th>\n",
       "      <td>528.28</td>\n",
       "    </tr>\n",
       "  </tbody>\n",
       "</table>\n",
       "</div>"
      ],
      "text/plain": [
       "      Million Gross\n",
       "Year               \n",
       "1937        5228.95\n",
       "1940        2187.66\n",
       "1946        1078.51\n",
       "1950         920.61\n",
       "1954         528.28"
      ]
     },
     "execution_count": 17,
     "metadata": {},
     "output_type": "execute_result"
    }
   ],
   "source": [
    "#Data ALL YEARS disney_df\n",
    "year_df = pd.DataFrame(disney_df.groupby('Year').mean()['Million Gross'])\n",
    "year_df.head(5)"
   ]
  },
  {
   "cell_type": "code",
   "execution_count": 18,
   "metadata": {},
   "outputs": [
    {
     "data": {
      "image/png": "[encoded data removed]",
      "text/plain": [
       "<Figure size 432x288 with 1 Axes>"
      ]
     },
     "metadata": {
      "needs_background": "light"
     },
     "output_type": "display_data"
    }
   ],
   "source": [
    "#Data disney_df\n",
    "## Maybe we can do this by decade as this is really hard to read###\n",
    "\n",
    "years = year_df.index\n",
    "gross_mean = year_df['Million Gross'].values\n",
    "year_line= plt.plot(years, gross_mean, color=\"blue\",label=\"Mean over Time\")\n",
    "\n",
    "plt.title(\"Average Gross per Movie by Year\")\n",
    "plt.xlabel(\"Years\")\n",
    "plt.xticks(rotation=70)\n",
    "plt.ylabel(\"Gross Inflated ($Millions)\")\n",
    "plt.show()"
   ]
  },
  {
   "cell_type": "code",
   "execution_count": 19,
   "metadata": {},
   "outputs": [
    {
     "name": "stdout",
     "output_type": "stream",
     "text": [
      "y =1.21x + -2318.05\n"
     ]
    },
    {
     "data": {
      "image/png": "[encoded data removed]",
      "text/plain": [
       "<Figure size 432x288 with 1 Axes>"
      ]
     },
     "metadata": {
      "needs_background": "light"
     },
     "output_type": "display_data"
    }
   ],
   "source": [
    "#Data disney_clean_1970_df\n",
    "\n",
    "years = year_clean_1970_df.index\n",
    "gross_mean = year_clean_1970_df['Avg Million (USD) Gross'].values\n",
    "\n",
    "year_line= plt.plot(years, gross_mean, color=\"blue\",label=\"Mean over Time\")\n",
    "plt.title(\"Average Gross per Movie by Year\")\n",
    "\n",
    "(slope, intercept, rvalue, pvalue, stderr) = linregress(years, gross_mean)\n",
    "regress_values = years * slope + intercept\n",
    "line_eq = \"y =\" + str(round(slope,2)) + \"x + \" + str(round(intercept,2))\n",
    "plt.plot(years,regress_values, \"r-\")\n",
    "\n",
    "plt.xticks(rotation=70)\n",
    "plt.ylabel(\"Gross Inflated ($Millions ($USD))\")\n",
    "print(line_eq)\n",
    "plt.show()"
   ]
  },
  {
   "cell_type": "code",
   "execution_count": 20,
   "metadata": {},
   "outputs": [
    {
     "data": {
      "text/html": [
       "<div>\n",
       "<style scoped>\n",
       "    .dataframe tbody tr th:only-of-type {\n",
       "        vertical-align: middle;\n",
       "    }\n",
       "\n",
       "    .dataframe tbody tr th {\n",
       "        vertical-align: top;\n",
       "    }\n",
       "\n",
       "    .dataframe thead th {\n",
       "        text-align: right;\n",
       "    }\n",
       "</style>\n",
       "<table border=\"1\" class=\"dataframe\">\n",
       "  <thead>\n",
       "    <tr style=\"text-align: right;\">\n",
       "      <th></th>\n",
       "      <th>Avg Million (USD) Gross</th>\n",
       "    </tr>\n",
       "    <tr>\n",
       "      <th>Genre</th>\n",
       "      <th></th>\n",
       "    </tr>\n",
       "  </thead>\n",
       "  <tbody>\n",
       "    <tr>\n",
       "      <th>#Missing Data</th>\n",
       "      <td>24.508000</td>\n",
       "    </tr>\n",
       "    <tr>\n",
       "      <th>Action</th>\n",
       "      <td>140.998462</td>\n",
       "    </tr>\n",
       "    <tr>\n",
       "      <th>Adventure</th>\n",
       "      <td>166.228548</td>\n",
       "    </tr>\n",
       "    <tr>\n",
       "      <th>Black Comedy</th>\n",
       "      <td>52.243333</td>\n",
       "    </tr>\n",
       "    <tr>\n",
       "      <th>Comedy</th>\n",
       "      <td>75.777360</td>\n",
       "    </tr>\n",
       "    <tr>\n",
       "      <th>Concert/Performance</th>\n",
       "      <td>57.410000</td>\n",
       "    </tr>\n",
       "    <tr>\n",
       "      <th>Documentary</th>\n",
       "      <td>12.718125</td>\n",
       "    </tr>\n",
       "    <tr>\n",
       "      <th>Drama</th>\n",
       "      <td>54.705636</td>\n",
       "    </tr>\n",
       "    <tr>\n",
       "      <th>Horror</th>\n",
       "      <td>23.415000</td>\n",
       "    </tr>\n",
       "    <tr>\n",
       "      <th>Musical</th>\n",
       "      <td>110.590000</td>\n",
       "    </tr>\n",
       "    <tr>\n",
       "      <th>Romantic Comedy</th>\n",
       "      <td>77.777391</td>\n",
       "    </tr>\n",
       "    <tr>\n",
       "      <th>Thriller/Suspense</th>\n",
       "      <td>89.652500</td>\n",
       "    </tr>\n",
       "    <tr>\n",
       "      <th>Western</th>\n",
       "      <td>73.815714</td>\n",
       "    </tr>\n",
       "  </tbody>\n",
       "</table>\n",
       "</div>"
      ],
      "text/plain": [
       "                     Avg Million (USD) Gross\n",
       "Genre                                       \n",
       "#Missing Data                      24.508000\n",
       "Action                            140.998462\n",
       "Adventure                         166.228548\n",
       "Black Comedy                       52.243333\n",
       "Comedy                             75.777360\n",
       "Concert/Performance                57.410000\n",
       "Documentary                        12.718125\n",
       "Drama                              54.705636\n",
       "Horror                             23.415000\n",
       "Musical                           110.590000\n",
       "Romantic Comedy                    77.777391\n",
       "Thriller/Suspense                  89.652500\n",
       "Western                            73.815714"
      ]
     },
     "execution_count": 20,
     "metadata": {},
     "output_type": "execute_result"
    }
   ],
   "source": [
    "# Group genre with >1970 average inflated gross\n",
    "disney_genre_1970_df = pd.DataFrame(disney_clean_1970_df.groupby('Genre').mean()['Million Gross'])\n",
    "disney_genre_1970_df.rename(columns = {'Million Gross' : 'Avg Million (USD) Gross'}, inplace = True)\n",
    "disney_genre_1970_df"
   ]
  },
  {
   "cell_type": "code",
   "execution_count": 21,
   "metadata": {},
   "outputs": [
    {
     "data": {
      "image/png": "[encoded data removed]",
      "text/plain": [
       "<Figure size 432x288 with 1 Axes>"
      ]
     },
     "metadata": {
      "needs_background": "light"
     },
     "output_type": "display_data"
    }
   ],
   "source": [
    "#Data used disney_clean_1970_df\n",
    "plt.bar(disney_genre_1970_df.index,disney_genre_1970_df['Avg Million (USD) Gross'])\n",
    "plt.xticks(rotation=70)\n",
    "plt.title(\"Average Inflated Gross by Genre\")\n",
    "plt.xlabel(\"Genre\")\n",
    "plt.ylabel(\"Average Inflated Gross (Millions USD)\")\n",
    "plt.show()"
   ]
  },
  {
   "cell_type": "code",
   "execution_count": 22,
   "metadata": {},
   "outputs": [
    {
     "data": {
      "text/html": [
       "<div>\n",
       "<style scoped>\n",
       "    .dataframe tbody tr th:only-of-type {\n",
       "        vertical-align: middle;\n",
       "    }\n",
       "\n",
       "    .dataframe tbody tr th {\n",
       "        vertical-align: top;\n",
       "    }\n",
       "\n",
       "    .dataframe thead th {\n",
       "        text-align: right;\n",
       "    }\n",
       "</style>\n",
       "<table border=\"1\" class=\"dataframe\">\n",
       "  <thead>\n",
       "    <tr style=\"text-align: right;\">\n",
       "      <th></th>\n",
       "      <th>Average Million (USD) Gross per Movie</th>\n",
       "    </tr>\n",
       "    <tr>\n",
       "      <th>Month</th>\n",
       "      <th></th>\n",
       "    </tr>\n",
       "  </thead>\n",
       "  <tbody>\n",
       "    <tr>\n",
       "      <th>01</th>\n",
       "      <td>49.147429</td>\n",
       "    </tr>\n",
       "    <tr>\n",
       "      <th>02</th>\n",
       "      <td>47.702439</td>\n",
       "    </tr>\n",
       "    <tr>\n",
       "      <th>03</th>\n",
       "      <td>72.843276</td>\n",
       "    </tr>\n",
       "    <tr>\n",
       "      <th>04</th>\n",
       "      <td>52.033469</td>\n",
       "    </tr>\n",
       "    <tr>\n",
       "      <th>05</th>\n",
       "      <td>153.393750</td>\n",
       "    </tr>\n",
       "    <tr>\n",
       "      <th>06</th>\n",
       "      <td>170.658571</td>\n",
       "    </tr>\n",
       "    <tr>\n",
       "      <th>07</th>\n",
       "      <td>111.667955</td>\n",
       "    </tr>\n",
       "    <tr>\n",
       "      <th>08</th>\n",
       "      <td>76.605417</td>\n",
       "    </tr>\n",
       "    <tr>\n",
       "      <th>09</th>\n",
       "      <td>35.188605</td>\n",
       "    </tr>\n",
       "    <tr>\n",
       "      <th>10</th>\n",
       "      <td>46.388163</td>\n",
       "    </tr>\n",
       "    <tr>\n",
       "      <th>11</th>\n",
       "      <td>166.370702</td>\n",
       "    </tr>\n",
       "    <tr>\n",
       "      <th>12</th>\n",
       "      <td>121.228478</td>\n",
       "    </tr>\n",
       "  </tbody>\n",
       "</table>\n",
       "</div>"
      ],
      "text/plain": [
       "       Average Million (USD) Gross per Movie\n",
       "Month                                       \n",
       "01                                 49.147429\n",
       "02                                 47.702439\n",
       "03                                 72.843276\n",
       "04                                 52.033469\n",
       "05                                153.393750\n",
       "06                                170.658571\n",
       "07                                111.667955\n",
       "08                                 76.605417\n",
       "09                                 35.188605\n",
       "10                                 46.388163\n",
       "11                                166.370702\n",
       "12                                121.228478"
      ]
     },
     "execution_count": 22,
     "metadata": {},
     "output_type": "execute_result"
    }
   ],
   "source": [
    "#Data disney_clean_1970_df\n",
    "#Breaking down data per Month to see if there is higher success in specific months or seasons\n",
    "month_1970_df = pd.DataFrame(disney_clean_1970_df.groupby('Month').mean()['Million Gross'])\n",
    "month_1970_df = month_1970_df.rename(columns={'Million Gross': 'Average Million (USD) Gross per Movie'})\n",
    "month_1970_df"
   ]
  },
  {
   "cell_type": "code",
   "execution_count": 23,
   "metadata": {},
   "outputs": [
    {
     "data": {
      "text/html": [
       "<div>\n",
       "<style scoped>\n",
       "    .dataframe tbody tr th:only-of-type {\n",
       "        vertical-align: middle;\n",
       "    }\n",
       "\n",
       "    .dataframe tbody tr th {\n",
       "        vertical-align: top;\n",
       "    }\n",
       "\n",
       "    .dataframe thead th {\n",
       "        text-align: right;\n",
       "    }\n",
       "</style>\n",
       "<table border=\"1\" class=\"dataframe\">\n",
       "  <thead>\n",
       "    <tr style=\"text-align: right;\">\n",
       "      <th></th>\n",
       "      <th># of Movies</th>\n",
       "    </tr>\n",
       "    <tr>\n",
       "      <th>Month</th>\n",
       "      <th></th>\n",
       "    </tr>\n",
       "  </thead>\n",
       "  <tbody>\n",
       "    <tr>\n",
       "      <th>01</th>\n",
       "      <td>35</td>\n",
       "    </tr>\n",
       "    <tr>\n",
       "      <th>02</th>\n",
       "      <td>41</td>\n",
       "    </tr>\n",
       "    <tr>\n",
       "      <th>03</th>\n",
       "      <td>58</td>\n",
       "    </tr>\n",
       "    <tr>\n",
       "      <th>04</th>\n",
       "      <td>49</td>\n",
       "    </tr>\n",
       "    <tr>\n",
       "      <th>05</th>\n",
       "      <td>40</td>\n",
       "    </tr>\n",
       "    <tr>\n",
       "      <th>06</th>\n",
       "      <td>49</td>\n",
       "    </tr>\n",
       "    <tr>\n",
       "      <th>07</th>\n",
       "      <td>44</td>\n",
       "    </tr>\n",
       "    <tr>\n",
       "      <th>08</th>\n",
       "      <td>48</td>\n",
       "    </tr>\n",
       "    <tr>\n",
       "      <th>09</th>\n",
       "      <td>43</td>\n",
       "    </tr>\n",
       "    <tr>\n",
       "      <th>10</th>\n",
       "      <td>49</td>\n",
       "    </tr>\n",
       "    <tr>\n",
       "      <th>11</th>\n",
       "      <td>57</td>\n",
       "    </tr>\n",
       "    <tr>\n",
       "      <th>12</th>\n",
       "      <td>46</td>\n",
       "    </tr>\n",
       "  </tbody>\n",
       "</table>\n",
       "</div>"
      ],
      "text/plain": [
       "       # of Movies\n",
       "Month             \n",
       "01              35\n",
       "02              41\n",
       "03              58\n",
       "04              49\n",
       "05              40\n",
       "06              49\n",
       "07              44\n",
       "08              48\n",
       "09              43\n",
       "10              49\n",
       "11              57\n",
       "12              46"
      ]
     },
     "execution_count": 23,
     "metadata": {},
     "output_type": "execute_result"
    }
   ],
   "source": [
    "#Data used from disney_clean_1970_df\n",
    "# Finding Total # of Movies released per Month\n",
    "month_1970_count_df = pd.DataFrame(disney_clean_1970_df.groupby('Month').count()['Movie'])\n",
    "month_1970_count_df = month_1970_count_df.rename(columns={'Movie': '# of Movies'})\n",
    "month_1970_count_df"
   ]
  },
  {
   "cell_type": "code",
   "execution_count": 24,
   "metadata": {},
   "outputs": [
    {
     "data": {
      "image/png": "[encoded data removed]",
      "text/plain": [
       "<Figure size 432x288 with 1 Axes>"
      ]
     },
     "metadata": {
      "needs_background": "light"
     },
     "output_type": "display_data"
    }
   ],
   "source": [
    "#Data used disney_clean_1970_df\n",
    "plt.bar(month_1970_count_df.index,month_1970_count_df['# of Movies'])\n",
    "\n",
    "plt.xticks(rotation=70)\n",
    "\n",
    "plt.title(\"Number of Movies Released by Month\")\n",
    "plt.xlabel(\"Month\")\n",
    "plt.ylabel(\"Count of Movies\")\n",
    "plt.xticks([0, 1, 2, 3, 4, 5, 6, 7, 8, 9, 10, 11], ['January', 'February', 'March', 'April', 'May',\n",
    "                                                     'June', 'July', 'August', 'September', 'October', 'November',\n",
    "                                                     'December'], rotation=90)\n",
    "\n",
    "plt.show()"
   ]
  },
  {
   "cell_type": "code",
   "execution_count": 25,
   "metadata": {},
   "outputs": [
    {
     "data": {
      "text/html": [
       "<div>\n",
       "<style scoped>\n",
       "    .dataframe tbody tr th:only-of-type {\n",
       "        vertical-align: middle;\n",
       "    }\n",
       "\n",
       "    .dataframe tbody tr th {\n",
       "        vertical-align: top;\n",
       "    }\n",
       "\n",
       "    .dataframe thead th {\n",
       "        text-align: right;\n",
       "    }\n",
       "</style>\n",
       "<table border=\"1\" class=\"dataframe\">\n",
       "  <thead>\n",
       "    <tr style=\"text-align: right;\">\n",
       "      <th></th>\n",
       "      <th>Movie</th>\n",
       "      <th>Release Date</th>\n",
       "      <th>Genre</th>\n",
       "      <th>Rating</th>\n",
       "      <th>Total Gross</th>\n",
       "      <th>Inflated Gross</th>\n",
       "      <th>Year</th>\n",
       "      <th>Month</th>\n",
       "      <th>Million Gross</th>\n",
       "    </tr>\n",
       "  </thead>\n",
       "  <tbody>\n",
       "    <tr>\n",
       "      <th>431</th>\n",
       "      <td>Glory Road</td>\n",
       "      <td>2006-01-13</td>\n",
       "      <td>Drama</td>\n",
       "      <td>PG</td>\n",
       "      <td>42647449</td>\n",
       "      <td>54888236</td>\n",
       "      <td>2006</td>\n",
       "      <td>01</td>\n",
       "      <td>54.89</td>\n",
       "    </tr>\n",
       "    <tr>\n",
       "      <th>432</th>\n",
       "      <td>Annapolis</td>\n",
       "      <td>2006-01-27</td>\n",
       "      <td>Drama</td>\n",
       "      <td>PG-13</td>\n",
       "      <td>17127992</td>\n",
       "      <td>22044113</td>\n",
       "      <td>2006</td>\n",
       "      <td>01</td>\n",
       "      <td>22.04</td>\n",
       "    </tr>\n",
       "    <tr>\n",
       "      <th>433</th>\n",
       "      <td>Roving Mars</td>\n",
       "      <td>2006-01-27</td>\n",
       "      <td>Documentary</td>\n",
       "      <td>G</td>\n",
       "      <td>10407978</td>\n",
       "      <td>12948025</td>\n",
       "      <td>2006</td>\n",
       "      <td>01</td>\n",
       "      <td>12.95</td>\n",
       "    </tr>\n",
       "    <tr>\n",
       "      <th>434</th>\n",
       "      <td>Eight Below</td>\n",
       "      <td>2006-02-17</td>\n",
       "      <td>Adventure</td>\n",
       "      <td>PG</td>\n",
       "      <td>81612565</td>\n",
       "      <td>105037235</td>\n",
       "      <td>2006</td>\n",
       "      <td>02</td>\n",
       "      <td>105.04</td>\n",
       "    </tr>\n",
       "    <tr>\n",
       "      <th>435</th>\n",
       "      <td>The Shaggy Dog</td>\n",
       "      <td>2006-03-10</td>\n",
       "      <td>Comedy</td>\n",
       "      <td>PG</td>\n",
       "      <td>61123569</td>\n",
       "      <td>78667428</td>\n",
       "      <td>2006</td>\n",
       "      <td>03</td>\n",
       "      <td>78.67</td>\n",
       "    </tr>\n",
       "  </tbody>\n",
       "</table>\n",
       "</div>"
      ],
      "text/plain": [
       "              Movie Release Date        Genre Rating  Total Gross  \\\n",
       "431      Glory Road   2006-01-13        Drama     PG     42647449   \n",
       "432       Annapolis   2006-01-27        Drama  PG-13     17127992   \n",
       "433     Roving Mars   2006-01-27  Documentary      G     10407978   \n",
       "434     Eight Below   2006-02-17    Adventure     PG     81612565   \n",
       "435  The Shaggy Dog   2006-03-10       Comedy     PG     61123569   \n",
       "\n",
       "     Inflated Gross  Year Month  Million Gross  \n",
       "431        54888236  2006    01          54.89  \n",
       "432        22044113  2006    01          22.04  \n",
       "433        12948025  2006    01          12.95  \n",
       "434       105037235  2006    02         105.04  \n",
       "435        78667428  2006    03          78.67  "
      ]
     },
     "execution_count": 25,
     "metadata": {},
     "output_type": "execute_result"
    }
   ],
   "source": [
    "#Data disney_df\n",
    "#Drill down data to show last 10 years and make new data frame\n",
    "disney_df['Year'] = disney_df['Year'].astype('int64')\n",
    "disney_year_2005_df = pd.DataFrame(disney_df[disney_df['Year'] > 2005])\n",
    "disney_year_2005_df.head(5)"
   ]
  },
  {
   "cell_type": "code",
   "execution_count": 26,
   "metadata": {},
   "outputs": [
    {
     "data": {
      "text/html": [
       "<div>\n",
       "<style scoped>\n",
       "    .dataframe tbody tr th:only-of-type {\n",
       "        vertical-align: middle;\n",
       "    }\n",
       "\n",
       "    .dataframe tbody tr th {\n",
       "        vertical-align: top;\n",
       "    }\n",
       "\n",
       "    .dataframe thead th {\n",
       "        text-align: right;\n",
       "    }\n",
       "</style>\n",
       "<table border=\"1\" class=\"dataframe\">\n",
       "  <thead>\n",
       "    <tr style=\"text-align: right;\">\n",
       "      <th></th>\n",
       "      <th>Avg Million (USD) Gross</th>\n",
       "    </tr>\n",
       "    <tr>\n",
       "      <th>Rating</th>\n",
       "      <th></th>\n",
       "    </tr>\n",
       "  </thead>\n",
       "  <tbody>\n",
       "    <tr>\n",
       "      <th>#Missing Data</th>\n",
       "      <td>43.885833</td>\n",
       "    </tr>\n",
       "    <tr>\n",
       "      <th>G</th>\n",
       "      <td>137.452692</td>\n",
       "    </tr>\n",
       "    <tr>\n",
       "      <th>PG</th>\n",
       "      <td>102.087419</td>\n",
       "    </tr>\n",
       "    <tr>\n",
       "      <th>PG-13</th>\n",
       "      <td>102.948138</td>\n",
       "    </tr>\n",
       "    <tr>\n",
       "      <th>R</th>\n",
       "      <td>55.305686</td>\n",
       "    </tr>\n",
       "  </tbody>\n",
       "</table>\n",
       "</div>"
      ],
      "text/plain": [
       "               Avg Million (USD) Gross\n",
       "Rating                                \n",
       "#Missing Data                43.885833\n",
       "G                           137.452692\n",
       "PG                          102.087419\n",
       "PG-13                       102.948138\n",
       "R                            55.305686"
      ]
     },
     "execution_count": 26,
     "metadata": {},
     "output_type": "execute_result"
    }
   ],
   "source": [
    "disney_rating_1970_df = pd.DataFrame(disney_clean_1970_df.groupby('Rating').mean()['Million Gross'])\n",
    "disney_rating_1970_df.rename(columns = {'Million Gross' : 'Avg Million (USD) Gross'}, inplace = True)\n",
    "disney_rating_1970_df"
   ]
  },
  {
   "cell_type": "code",
   "execution_count": 27,
   "metadata": {},
   "outputs": [
    {
     "data": {
      "text/html": [
       "<div>\n",
       "<style scoped>\n",
       "    .dataframe tbody tr th:only-of-type {\n",
       "        vertical-align: middle;\n",
       "    }\n",
       "\n",
       "    .dataframe tbody tr th {\n",
       "        vertical-align: top;\n",
       "    }\n",
       "\n",
       "    .dataframe thead th {\n",
       "        text-align: right;\n",
       "    }\n",
       "</style>\n",
       "<table border=\"1\" class=\"dataframe\">\n",
       "  <thead>\n",
       "    <tr style=\"text-align: right;\">\n",
       "      <th></th>\n",
       "      <th>Avg Million (USD) Gross</th>\n",
       "    </tr>\n",
       "    <tr>\n",
       "      <th>Rating</th>\n",
       "      <th></th>\n",
       "    </tr>\n",
       "  </thead>\n",
       "  <tbody>\n",
       "    <tr>\n",
       "      <th>G</th>\n",
       "      <td>137.452692</td>\n",
       "    </tr>\n",
       "    <tr>\n",
       "      <th>PG</th>\n",
       "      <td>102.087419</td>\n",
       "    </tr>\n",
       "    <tr>\n",
       "      <th>PG-13</th>\n",
       "      <td>102.948138</td>\n",
       "    </tr>\n",
       "    <tr>\n",
       "      <th>R</th>\n",
       "      <td>55.305686</td>\n",
       "    </tr>\n",
       "  </tbody>\n",
       "</table>\n",
       "</div>"
      ],
      "text/plain": [
       "        Avg Million (USD) Gross\n",
       "Rating                         \n",
       "G                    137.452692\n",
       "PG                   102.087419\n",
       "PG-13                102.948138\n",
       "R                     55.305686"
      ]
     },
     "execution_count": 27,
     "metadata": {},
     "output_type": "execute_result"
    }
   ],
   "source": [
    "#removed missing data so can be plotted accuratly\n",
    "disney_rating_1970_df_missing_removed = disney_rating_1970_df.drop(labels=[\"#Missing Data\"], axis=0)\n",
    "disney_rating_1970_df_missing_removed"
   ]
  },
  {
   "cell_type": "code",
   "execution_count": 28,
   "metadata": {},
   "outputs": [
    {
     "data": {
      "text/plain": [
       "Text(0, 0.5, 'Inflated Gross (Millions USD)')"
      ]
     },
     "execution_count": 28,
     "metadata": {},
     "output_type": "execute_result"
    },
    {
     "data": {
      "image/png": "[encoded data removed]",
      "text/plain": [
       "<Figure size 432x288 with 1 Axes>"
      ]
     },
     "metadata": {
      "needs_background": "light"
     },
     "output_type": "display_data"
    }
   ],
   "source": [
    "#Bar graph >1970 -Rating vs Avg millions Gross\n",
    "disney_rating_1970_df.plot.bar(legend=None)\n",
    "plt.title('Average Inflated Gross by Rating')\n",
    "plt.xlabel('Rating')\n",
    "plt.xticks(rotation=90)\n",
    "plt.ylabel('Inflated Gross (Millions USD)')"
   ]
  },
  {
   "cell_type": "code",
   "execution_count": 29,
   "metadata": {},
   "outputs": [
    {
     "data": {
      "text/html": [
       "<div>\n",
       "<style scoped>\n",
       "    .dataframe tbody tr th:only-of-type {\n",
       "        vertical-align: middle;\n",
       "    }\n",
       "\n",
       "    .dataframe tbody tr th {\n",
       "        vertical-align: top;\n",
       "    }\n",
       "\n",
       "    .dataframe thead th {\n",
       "        text-align: right;\n",
       "    }\n",
       "</style>\n",
       "<table border=\"1\" class=\"dataframe\">\n",
       "  <thead>\n",
       "    <tr style=\"text-align: right;\">\n",
       "      <th></th>\n",
       "      <th>Avg Million (USD) Gross</th>\n",
       "    </tr>\n",
       "    <tr>\n",
       "      <th>Rating</th>\n",
       "      <th></th>\n",
       "    </tr>\n",
       "  </thead>\n",
       "  <tbody>\n",
       "    <tr>\n",
       "      <th>G</th>\n",
       "      <td>102.792500</td>\n",
       "    </tr>\n",
       "    <tr>\n",
       "      <th>PG</th>\n",
       "      <td>123.973182</td>\n",
       "    </tr>\n",
       "    <tr>\n",
       "      <th>PG-13</th>\n",
       "      <td>171.340851</td>\n",
       "    </tr>\n",
       "    <tr>\n",
       "      <th>R</th>\n",
       "      <td>17.784286</td>\n",
       "    </tr>\n",
       "  </tbody>\n",
       "</table>\n",
       "</div>"
      ],
      "text/plain": [
       "        Avg Million (USD) Gross\n",
       "Rating                         \n",
       "G                    102.792500\n",
       "PG                   123.973182\n",
       "PG-13                171.340851\n",
       "R                     17.784286"
      ]
     },
     "execution_count": 29,
     "metadata": {},
     "output_type": "execute_result"
    }
   ],
   "source": [
    "#Data disney >2005_df- okay to compare with disney_clean_1970_df - as it is the same type of data just different years\n",
    "# Use new Data Frame and group rating with average inflated gross\n",
    "rating_2005_df = pd.DataFrame(disney_year_2005_df.groupby('Rating').mean()['Million Gross'])\n",
    "rating_2005_df.rename(columns = {'Million Gross' : 'Avg Million (USD) Gross'}, inplace = True)\n",
    "rating_2005_df"
   ]
  },
  {
   "cell_type": "code",
   "execution_count": 30,
   "metadata": {},
   "outputs": [
    {
     "data": {
      "text/plain": [
       "<matplotlib.legend.Legend at 0x7fd612ce4cd0>"
      ]
     },
     "execution_count": 30,
     "metadata": {},
     "output_type": "execute_result"
    },
    {
     "data": {
      "image/png": "[encoded data removed]",
      "text/plain": [
       "<Figure size 432x288 with 1 Axes>"
      ]
     },
     "metadata": {
      "needs_background": "light"
     },
     "output_type": "display_data"
    }
   ],
   "source": [
    "#Data disney >2005_df - okay to compare with disney_clean_1970_df - as it is the same type of data just different years\n",
    "#Bar Graph   Rating vs Inflated Gross (FOR LAST 10 YEARS)\n",
    "rating_2005_df.plot.bar()\n",
    "plt.title('Average Inflated Gross by Rating (Last 10 Years)')\n",
    "plt.xlabel('Rating')\n",
    "plt.ylabel('Average Inflated Gross (Millions)')\n",
    "plt.legend([])"
   ]
  },
  {
   "cell_type": "code",
   "execution_count": 31,
   "metadata": {},
   "outputs": [
    {
     "data": {
      "text/plain": [
       "<matplotlib.legend.Legend at 0x7fd612e59730>"
      ]
     },
     "execution_count": 31,
     "metadata": {},
     "output_type": "execute_result"
    },
    {
     "data": {
      "image/png": "[encoded data removed]",
      "text/plain": [
       "<Figure size 432x288 with 1 Axes>"
      ]
     },
     "metadata": {
      "needs_background": "light"
     },
     "output_type": "display_data"
    }
   ],
   "source": [
    "#Data used from disney_clean_1970_df- using data from tables\n",
    "#x = disney_genre_1970_df.index\n",
    "x = disney_rating_1970_df_missing_removed.index\n",
    "y1 = disney_rating_1970_df_missing_removed['Avg Million (USD) Gross'].values\n",
    "y2 = rating_2005_df['Avg Million (USD) Gross'].values\n",
    "\n",
    "x_axis = np.arange(len(x))\n",
    "\n",
    "plt.bar(x_axis - 0.2, y1, 0.4)\n",
    "plt.bar(x_axis + 0.2, y2, 0.4)\n",
    "plt.xticks(x_axis, x, rotation=90)\n",
    "plt.title('Average Inflated Gross by Rating')\n",
    "plt.xlabel('Rating')\n",
    "plt.ylabel('Average Inflated Gross (Millions USD)')\n",
    "plt.legend([\"1970-2016\", \"2006-2016\"])"
   ]
  },
  {
   "cell_type": "code",
   "execution_count": 32,
   "metadata": {},
   "outputs": [
    {
     "data": {
      "text/plain": [
       "<matplotlib.legend.Legend at 0x7fd6129fea00>"
      ]
     },
     "execution_count": 32,
     "metadata": {},
     "output_type": "execute_result"
    },
    {
     "data": {
      "image/png": "[encoded data removed]",
      "text/plain": [
       "<Figure size 432x288 with 1 Axes>"
      ]
     },
     "metadata": {
      "needs_background": "light"
     },
     "output_type": "display_data"
    }
   ],
   "source": [
    "#Data disney_df - using typed in data\n",
    "#Compare the two rating bar plots (Overall and Last 10 Years)\n",
    "x = ['G', 'PG', 'PG-13', 'R', '#Missing Data']  \n",
    "y1 = [291, 101, 102, 55, 70]\n",
    "y2 = [102.792500, 123.973182, 171.340851, 17.784286, 0]\n",
    "\n",
    "x_axis = np.arange(len(x))\n",
    "\n",
    "plt.bar(x_axis - 0.2, y1, 0.4, label='All Movies')\n",
    "plt.bar(x_axis + 0.2, y2, 0.4, label='Last 10 Years')\n",
    "\n",
    "plt.xticks(x_axis, x, rotation=90)\n",
    "plt.title('Average Inflated Gross by Rating')\n",
    "plt.xlabel('Rating')\n",
    "plt.ylabel('Average Inflated Gross (Millions)')\n",
    "\n",
    "plt.legend([\"All Movies\", \"2006-2016\"])"
   ]
  },
  {
   "cell_type": "code",
   "execution_count": 33,
   "metadata": {},
   "outputs": [
    {
     "data": {
      "text/html": [
       "<div>\n",
       "<style scoped>\n",
       "    .dataframe tbody tr th:only-of-type {\n",
       "        vertical-align: middle;\n",
       "    }\n",
       "\n",
       "    .dataframe tbody tr th {\n",
       "        vertical-align: top;\n",
       "    }\n",
       "\n",
       "    .dataframe thead th {\n",
       "        text-align: right;\n",
       "    }\n",
       "</style>\n",
       "<table border=\"1\" class=\"dataframe\">\n",
       "  <thead>\n",
       "    <tr style=\"text-align: right;\">\n",
       "      <th></th>\n",
       "      <th>Million Gross</th>\n",
       "    </tr>\n",
       "    <tr>\n",
       "      <th>Genre</th>\n",
       "      <th></th>\n",
       "    </tr>\n",
       "  </thead>\n",
       "  <tbody>\n",
       "    <tr>\n",
       "      <th>Action</th>\n",
       "      <td>249.672727</td>\n",
       "    </tr>\n",
       "    <tr>\n",
       "      <th>Adventure</th>\n",
       "      <td>201.467273</td>\n",
       "    </tr>\n",
       "    <tr>\n",
       "      <th>Comedy</th>\n",
       "      <td>96.835455</td>\n",
       "    </tr>\n",
       "    <tr>\n",
       "      <th>Concert/Performance</th>\n",
       "      <td>57.410000</td>\n",
       "    </tr>\n",
       "    <tr>\n",
       "      <th>Documentary</th>\n",
       "      <td>13.452500</td>\n",
       "    </tr>\n",
       "    <tr>\n",
       "      <th>Drama</th>\n",
       "      <td>61.362069</td>\n",
       "    </tr>\n",
       "    <tr>\n",
       "      <th>Horror</th>\n",
       "      <td>24.580000</td>\n",
       "    </tr>\n",
       "    <tr>\n",
       "      <th>Musical</th>\n",
       "      <td>89.313333</td>\n",
       "    </tr>\n",
       "    <tr>\n",
       "      <th>Romantic Comedy</th>\n",
       "      <td>89.893333</td>\n",
       "    </tr>\n",
       "    <tr>\n",
       "      <th>Thriller/Suspense</th>\n",
       "      <td>55.128000</td>\n",
       "    </tr>\n",
       "    <tr>\n",
       "      <th>Western</th>\n",
       "      <td>92.600000</td>\n",
       "    </tr>\n",
       "  </tbody>\n",
       "</table>\n",
       "</div>"
      ],
      "text/plain": [
       "                     Million Gross\n",
       "Genre                             \n",
       "Action                  249.672727\n",
       "Adventure               201.467273\n",
       "Comedy                   96.835455\n",
       "Concert/Performance      57.410000\n",
       "Documentary              13.452500\n",
       "Drama                    61.362069\n",
       "Horror                   24.580000\n",
       "Musical                  89.313333\n",
       "Romantic Comedy          89.893333\n",
       "Thriller/Suspense        55.128000\n",
       "Western                  92.600000"
      ]
     },
     "execution_count": 33,
     "metadata": {},
     "output_type": "execute_result"
    }
   ],
   "source": [
    "#Data disney >2005_df- okay to compare with disney_clean_1970_df - as it is the same type of data just different years\n",
    "# Use new Data Frame and group genre with average inflated gross\n",
    "genre_2005_df = pd.DataFrame(disney_year_2005_df.groupby('Genre').mean()['Million Gross'])\n",
    "genre_2005_df"
   ]
  },
  {
   "cell_type": "code",
   "execution_count": 34,
   "metadata": {},
   "outputs": [
    {
     "data": {
      "text/html": [
       "<div>\n",
       "<style scoped>\n",
       "    .dataframe tbody tr th:only-of-type {\n",
       "        vertical-align: middle;\n",
       "    }\n",
       "\n",
       "    .dataframe tbody tr th {\n",
       "        vertical-align: top;\n",
       "    }\n",
       "\n",
       "    .dataframe thead th {\n",
       "        text-align: right;\n",
       "    }\n",
       "</style>\n",
       "<table border=\"1\" class=\"dataframe\">\n",
       "  <thead>\n",
       "    <tr style=\"text-align: right;\">\n",
       "      <th></th>\n",
       "      <th>Million Gross</th>\n",
       "    </tr>\n",
       "    <tr>\n",
       "      <th>Genre</th>\n",
       "      <th></th>\n",
       "    </tr>\n",
       "  </thead>\n",
       "  <tbody>\n",
       "    <tr>\n",
       "      <th>Action</th>\n",
       "      <td>249.672727</td>\n",
       "    </tr>\n",
       "    <tr>\n",
       "      <th>Adventure</th>\n",
       "      <td>201.467273</td>\n",
       "    </tr>\n",
       "    <tr>\n",
       "      <th>Comedy</th>\n",
       "      <td>96.835455</td>\n",
       "    </tr>\n",
       "    <tr>\n",
       "      <th>Concert/Performance</th>\n",
       "      <td>57.410000</td>\n",
       "    </tr>\n",
       "    <tr>\n",
       "      <th>Documentary</th>\n",
       "      <td>13.452500</td>\n",
       "    </tr>\n",
       "    <tr>\n",
       "      <th>Drama</th>\n",
       "      <td>61.362069</td>\n",
       "    </tr>\n",
       "    <tr>\n",
       "      <th>Horror</th>\n",
       "      <td>24.580000</td>\n",
       "    </tr>\n",
       "    <tr>\n",
       "      <th>Musical</th>\n",
       "      <td>89.313333</td>\n",
       "    </tr>\n",
       "    <tr>\n",
       "      <th>Romantic Comedy</th>\n",
       "      <td>89.893333</td>\n",
       "    </tr>\n",
       "    <tr>\n",
       "      <th>Thriller/Suspense</th>\n",
       "      <td>55.128000</td>\n",
       "    </tr>\n",
       "    <tr>\n",
       "      <th>Western</th>\n",
       "      <td>92.600000</td>\n",
       "    </tr>\n",
       "  </tbody>\n",
       "</table>\n",
       "</div>"
      ],
      "text/plain": [
       "                     Million Gross\n",
       "Genre                             \n",
       "Action                  249.672727\n",
       "Adventure               201.467273\n",
       "Comedy                   96.835455\n",
       "Concert/Performance      57.410000\n",
       "Documentary              13.452500\n",
       "Drama                    61.362069\n",
       "Horror                   24.580000\n",
       "Musical                  89.313333\n",
       "Romantic Comedy          89.893333\n",
       "Thriller/Suspense        55.128000\n",
       "Western                  92.600000"
      ]
     },
     "execution_count": 34,
     "metadata": {},
     "output_type": "execute_result"
    }
   ],
   "source": [
    "#Data disney >2005_df- okay to compare with disney_clean_1970_df - as it is the same type of data just different years\n",
    "# Use new Data Frame and group genre with average inflated gross\n",
    "genre_2005_df = pd.DataFrame(disney_year_2005_df.groupby('Genre').mean()['Million Gross'])\n",
    "genre_2005_df"
   ]
  },
  {
   "cell_type": "code",
   "execution_count": 35,
   "metadata": {},
   "outputs": [
    {
     "data": {
      "text/plain": [
       "<matplotlib.legend.Legend at 0x7fd612986d60>"
      ]
     },
     "execution_count": 35,
     "metadata": {},
     "output_type": "execute_result"
    },
    {
     "data": {
      "image/png": "[encoded data removed]",
      "text/plain": [
       "<Figure size 432x288 with 1 Axes>"
      ]
     },
     "metadata": {
      "needs_background": "light"
     },
     "output_type": "display_data"
    }
   ],
   "source": [
    "#Data disney >2005_df- okay to compare with disney_clean_1970_df - as it is the same type of data just different years\n",
    "#Bar Graph   Genre vs Inflated Gross (FOR LAST 10 YEARS)\n",
    "genre_2005_df.plot.bar()\n",
    "plt.title('Average Inflated Gross by Rating (Last 10 Years)')\n",
    "plt.xlabel('Genre')\n",
    "plt.ylabel('Average Inflated Gross (Millions)')\n",
    "plt.legend([])"
   ]
  },
  {
   "cell_type": "code",
   "execution_count": 36,
   "metadata": {},
   "outputs": [
    {
     "data": {
      "text/html": [
       "<div>\n",
       "<style scoped>\n",
       "    .dataframe tbody tr th:only-of-type {\n",
       "        vertical-align: middle;\n",
       "    }\n",
       "\n",
       "    .dataframe tbody tr th {\n",
       "        vertical-align: top;\n",
       "    }\n",
       "\n",
       "    .dataframe thead th {\n",
       "        text-align: right;\n",
       "    }\n",
       "</style>\n",
       "<table border=\"1\" class=\"dataframe\">\n",
       "  <thead>\n",
       "    <tr style=\"text-align: right;\">\n",
       "      <th></th>\n",
       "      <th>Avg Million (USD) Gross</th>\n",
       "    </tr>\n",
       "    <tr>\n",
       "      <th>Genre</th>\n",
       "      <th></th>\n",
       "    </tr>\n",
       "  </thead>\n",
       "  <tbody>\n",
       "    <tr>\n",
       "      <th>Action</th>\n",
       "      <td>140.998462</td>\n",
       "    </tr>\n",
       "    <tr>\n",
       "      <th>Adventure</th>\n",
       "      <td>166.228548</td>\n",
       "    </tr>\n",
       "    <tr>\n",
       "      <th>Comedy</th>\n",
       "      <td>75.777360</td>\n",
       "    </tr>\n",
       "    <tr>\n",
       "      <th>Concert/Performance</th>\n",
       "      <td>57.410000</td>\n",
       "    </tr>\n",
       "    <tr>\n",
       "      <th>Documentary</th>\n",
       "      <td>12.718125</td>\n",
       "    </tr>\n",
       "    <tr>\n",
       "      <th>Drama</th>\n",
       "      <td>54.705636</td>\n",
       "    </tr>\n",
       "    <tr>\n",
       "      <th>Horror</th>\n",
       "      <td>23.415000</td>\n",
       "    </tr>\n",
       "    <tr>\n",
       "      <th>Musical</th>\n",
       "      <td>110.590000</td>\n",
       "    </tr>\n",
       "    <tr>\n",
       "      <th>Romantic Comedy</th>\n",
       "      <td>77.777391</td>\n",
       "    </tr>\n",
       "    <tr>\n",
       "      <th>Thriller/Suspense</th>\n",
       "      <td>89.652500</td>\n",
       "    </tr>\n",
       "    <tr>\n",
       "      <th>Western</th>\n",
       "      <td>73.815714</td>\n",
       "    </tr>\n",
       "  </tbody>\n",
       "</table>\n",
       "</div>"
      ],
      "text/plain": [
       "                     Avg Million (USD) Gross\n",
       "Genre                                       \n",
       "Action                            140.998462\n",
       "Adventure                         166.228548\n",
       "Comedy                             75.777360\n",
       "Concert/Performance                57.410000\n",
       "Documentary                        12.718125\n",
       "Drama                              54.705636\n",
       "Horror                             23.415000\n",
       "Musical                           110.590000\n",
       "Romantic Comedy                    77.777391\n",
       "Thriller/Suspense                  89.652500\n",
       "Western                            73.815714"
      ]
     },
     "execution_count": 36,
     "metadata": {},
     "output_type": "execute_result"
    }
   ],
   "source": [
    "#Data disney_clean_1970_df\n",
    "#removed Missing data and black comedy information from the >1970 dataframe\n",
    "disney_genre_1970_df_missing_removed = disney_genre_1970_df.drop(labels=[\"#Missing Data\",  'Black Comedy'], axis=0)\n",
    "disney_genre_1970_df_missing_removed"
   ]
  },
  {
   "cell_type": "code",
   "execution_count": 37,
   "metadata": {},
   "outputs": [
    {
     "data": {
      "text/plain": [
       "<matplotlib.legend.Legend at 0x7fd612010460>"
      ]
     },
     "execution_count": 37,
     "metadata": {},
     "output_type": "execute_result"
    },
    {
     "data": {
      "image/png": "[encoded data removed]",
      "text/plain": [
       "<Figure size 432x288 with 1 Axes>"
      ]
     },
     "metadata": {
      "needs_background": "light"
     },
     "output_type": "display_data"
    }
   ],
   "source": [
    "#Data used from disney_clean_1970_df- using data from tables\n",
    "x = disney_genre_1970_df_missing_removed.index\n",
    "y1 = disney_genre_1970_df_missing_removed['Avg Million (USD) Gross'].values\n",
    "y2 = genre_2005_df['Million Gross'].values \n",
    "\n",
    "\n",
    "x_axis = np.arange(len(x))\n",
    "\n",
    "plt.bar(x_axis - 0.2, y1, 0.4)\n",
    "plt.bar(x_axis + 0.2, y2, 0.4)\n",
    "\n",
    "plt.xticks(x_axis, x, rotation=90)\n",
    "\n",
    "plt.title('Average Inflated Gross by Genre')\n",
    "plt.xlabel('Genre')\n",
    "plt.ylabel('Average Inflated Gross (Millions)')\n",
    "\n",
    "plt.legend([\"1970-2016\", \"2006-2016\"])"
   ]
  },
  {
   "cell_type": "code",
   "execution_count": 38,
   "metadata": {},
   "outputs": [
    {
     "data": {
      "image/png": "[encoded data removed]",
      "text/plain": [
       "<Figure size 432x288 with 1 Axes>"
      ]
     },
     "metadata": {
      "needs_background": "light"
     },
     "output_type": "display_data"
    }
   ],
   "source": [
    "#Data ALL YEARS disney_df\n",
    "#trying to make a boxplot but I don't think it will work as the data is soooo far spreadout\n",
    "\n",
    "blue_diamond = dict(markerfacecolor='b', marker='D')\n",
    "\n",
    "disney_genre_df.boxplot(by='Genre',flierprops=blue_diamond)\n",
    "plt.xticks(rotation=70)\n",
    "plt.xlabel('Genre')\n",
    "plt.ylabel('Average Inflated Gross (Millions USD)')\n",
    "\n",
    "plt.show()"
   ]
  },
  {
   "cell_type": "code",
   "execution_count": 39,
   "metadata": {},
   "outputs": [
    {
     "data": {
      "image/png": "[encoded data removed]",
      "text/plain": [
       "<Figure size 432x288 with 1 Axes>"
      ]
     },
     "metadata": {
      "needs_background": "light"
     },
     "output_type": "display_data"
    }
   ],
   "source": [
    "#Data disney_clean_1970_df\n",
    "#trying to make a boxplot but I don't think it will work as the data is soooo far spreadout\n",
    "disney_genre_1970_full_df=  disney_clean_1970_df[['Genre','Million Gross']].copy() \n",
    "disney_genre_1970_full_df\n",
    "\n",
    "disney_genre_1970_full_df.rename(columns = {'Million Gross' : 'Avg Million (USD) Gross'}, inplace = True)\n",
    "\n",
    "blue_diamond = dict(markerfacecolor='b', marker='D')\n",
    "\n",
    "disney_genre_1970_full_df.boxplot(by='Genre',flierprops=blue_diamond)\n",
    "plt.xticks(rotation=70)\n",
    "plt.xlabel('Genre')\n",
    "plt.ylabel('Average Inflated Gross (Millions USD)')\n",
    "\n",
    "plt.show()"
   ]
  },
  {
   "cell_type": "code",
   "execution_count": 40,
   "metadata": {},
   "outputs": [
    {
     "data": {
      "text/html": [
       "<div>\n",
       "<style scoped>\n",
       "    .dataframe tbody tr th:only-of-type {\n",
       "        vertical-align: middle;\n",
       "    }\n",
       "\n",
       "    .dataframe tbody tr th {\n",
       "        vertical-align: top;\n",
       "    }\n",
       "\n",
       "    .dataframe thead th {\n",
       "        text-align: right;\n",
       "    }\n",
       "</style>\n",
       "<table border=\"1\" class=\"dataframe\">\n",
       "  <thead>\n",
       "    <tr style=\"text-align: right;\">\n",
       "      <th></th>\n",
       "      <th>Movie</th>\n",
       "      <th>Release Date</th>\n",
       "      <th>Genre</th>\n",
       "      <th>Rating</th>\n",
       "      <th>Total Gross</th>\n",
       "      <th>Inflated Gross</th>\n",
       "      <th>Year</th>\n",
       "      <th>Month</th>\n",
       "      <th>Million Gross</th>\n",
       "    </tr>\n",
       "  </thead>\n",
       "  <tbody>\n",
       "    <tr>\n",
       "      <th>0</th>\n",
       "      <td>Snow White and the Seven Dwarfs</td>\n",
       "      <td>1937-12-21</td>\n",
       "      <td>Musical</td>\n",
       "      <td>G</td>\n",
       "      <td>184925485</td>\n",
       "      <td>5228953251</td>\n",
       "      <td>1937</td>\n",
       "      <td>12</td>\n",
       "      <td>5228.95</td>\n",
       "    </tr>\n",
       "    <tr>\n",
       "      <th>1</th>\n",
       "      <td>Pinocchio</td>\n",
       "      <td>1940-02-09</td>\n",
       "      <td>Adventure</td>\n",
       "      <td>G</td>\n",
       "      <td>84300000</td>\n",
       "      <td>2188229052</td>\n",
       "      <td>1940</td>\n",
       "      <td>02</td>\n",
       "      <td>2188.23</td>\n",
       "    </tr>\n",
       "    <tr>\n",
       "      <th>2</th>\n",
       "      <td>Fantasia</td>\n",
       "      <td>1940-11-13</td>\n",
       "      <td>Musical</td>\n",
       "      <td>G</td>\n",
       "      <td>83320000</td>\n",
       "      <td>2187090808</td>\n",
       "      <td>1940</td>\n",
       "      <td>11</td>\n",
       "      <td>2187.09</td>\n",
       "    </tr>\n",
       "    <tr>\n",
       "      <th>8</th>\n",
       "      <td>101 Dalmatians</td>\n",
       "      <td>1961-01-25</td>\n",
       "      <td>Comedy</td>\n",
       "      <td>G</td>\n",
       "      <td>153000000</td>\n",
       "      <td>1362870985</td>\n",
       "      <td>1961</td>\n",
       "      <td>01</td>\n",
       "      <td>1362.87</td>\n",
       "    </tr>\n",
       "    <tr>\n",
       "      <th>6</th>\n",
       "      <td>Lady and the Tramp</td>\n",
       "      <td>1955-06-22</td>\n",
       "      <td>Drama</td>\n",
       "      <td>G</td>\n",
       "      <td>93600000</td>\n",
       "      <td>1236035515</td>\n",
       "      <td>1955</td>\n",
       "      <td>06</td>\n",
       "      <td>1236.04</td>\n",
       "    </tr>\n",
       "  </tbody>\n",
       "</table>\n",
       "</div>"
      ],
      "text/plain": [
       "                             Movie Release Date      Genre Rating  \\\n",
       "0  Snow White and the Seven Dwarfs   1937-12-21    Musical      G   \n",
       "1                        Pinocchio   1940-02-09  Adventure      G   \n",
       "2                         Fantasia   1940-11-13    Musical      G   \n",
       "8                   101 Dalmatians   1961-01-25     Comedy      G   \n",
       "6               Lady and the Tramp   1955-06-22      Drama      G   \n",
       "\n",
       "   Total Gross  Inflated Gross  Year Month  Million Gross  \n",
       "0    184925485      5228953251  1937    12        5228.95  \n",
       "1     84300000      2188229052  1940    02        2188.23  \n",
       "2     83320000      2187090808  1940    11        2187.09  \n",
       "8    153000000      1362870985  1961    01        1362.87  \n",
       "6     93600000      1236035515  1955    06        1236.04  "
      ]
     },
     "execution_count": 40,
     "metadata": {},
     "output_type": "execute_result"
    }
   ],
   "source": [
    "#Data disney_df\n",
    "# Make new DataFrame showing Top 10 grossing movies\n",
    "top_movies = disney_df.sort_values('Million Gross', ascending=False)\n",
    "top_movies.head(5)"
   ]
  },
  {
   "cell_type": "code",
   "execution_count": 41,
   "metadata": {},
   "outputs": [
    {
     "name": "stdout",
     "output_type": "stream",
     "text": [
      "y =2.46x + -4819.65\n"
     ]
    },
    {
     "data": {
      "image/png": "[encoded data removed]",
      "text/plain": [
       "<Figure size 432x288 with 1 Axes>"
      ]
     },
     "metadata": {
      "needs_background": "light"
     },
     "output_type": "display_data"
    }
   ],
   "source": [
    "#Data used from disney_clean_1970_df- using data from tables\n",
    "#x = disney_genre_1970_df.index\n",
    "x = disney_1970_df.Year\n",
    "#month = month_1970_df.index\n",
    "y1 = disney_1970_df['Million Gross'].values\n",
    "\n",
    "x2 = disney_year_2005_df.Year\n",
    "#gross_mean = month_1970_df['Average Gross per Movie'].values\n",
    "y2 = disney_year_2005_df['Million Gross'].values\n",
    "\n",
    "plt.scatter(x, y1)\n",
    "\n",
    "plt.title('Inflated Gross (Millions USD) vs Year per Movie 1970-2016')\n",
    "plt.xlabel('Years')\n",
    "plt.ylabel('Inflated Gross (Millions USD)')\n",
    "\n",
    "(slope, intercept, rvalue, pvalue, stderr) = linregress(x, y1)\n",
    "regress_values = x * slope + intercept\n",
    "line_eq = \"y =\" + str(round(slope,2)) + \"x + \" + str(round(intercept,2))\n",
    "plt.plot(x,regress_values, \"r-\")\n",
    "print(line_eq)\n",
    "plt.show()\n"
   ]
  }
 ],
 "metadata": {
  "kernelspec": {
   "display_name": "Python 3",
   "language": "python",
   "name": "python3"
  },
  "language_info": {
   "codemirror_mode": {
    "name": "ipython",
    "version": 3
   },
   "file_extension": ".py",
   "mimetype": "text/x-python",
   "name": "python",
   "nbconvert_exporter": "python",
   "pygments_lexer": "ipython3",
   "version": "3.8.5"
  }
 },
 "nbformat": 4,
 "nbformat_minor": 4
}
